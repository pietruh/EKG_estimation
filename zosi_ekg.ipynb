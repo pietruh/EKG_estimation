{
 "cells": [
  {
   "cell_type": "code",
   "execution_count": 2,
   "metadata": {
    "collapsed": true
   },
   "outputs": [],
   "source": [
    "import pandas as pd\n",
    "import numpy as np"
   ]
  },
  {
   "cell_type": "code",
   "execution_count": 57,
   "metadata": {},
   "outputs": [],
   "source": [
    "df = pd.read_csv('/Users/zosia/Desktop/ECG/results_35.txt', delimiter=';', header=None)\n",
    "df.columns= ['year', 'illness_code', 'ilness_name', 'n_hospit', 'procedure', 'n_proc']\n",
    "df.n_proc=df.n_proc.map(lambda x: str(x)[:-1])\n",
    "df[\"n_proc\"] = df[\"n_proc\"].apply(pd.to_numeric)"
   ]
  },
  {
   "cell_type": "code",
   "execution_count": 58,
   "metadata": {},
   "outputs": [
    {
     "data": {
      "text/html": [
       "<div>\n",
       "<style>\n",
       "    .dataframe thead tr:only-child th {\n",
       "        text-align: right;\n",
       "    }\n",
       "\n",
       "    .dataframe thead th {\n",
       "        text-align: left;\n",
       "    }\n",
       "\n",
       "    .dataframe tbody tr th {\n",
       "        vertical-align: top;\n",
       "    }\n",
       "</style>\n",
       "<table border=\"1\" class=\"dataframe\">\n",
       "  <thead>\n",
       "    <tr style=\"text-align: right;\">\n",
       "      <th></th>\n",
       "      <th>year</th>\n",
       "      <th>illness_code</th>\n",
       "      <th>ilness_name</th>\n",
       "      <th>n_hospit</th>\n",
       "      <th>procedure</th>\n",
       "      <th>n_proc</th>\n",
       "    </tr>\n",
       "  </thead>\n",
       "  <tbody>\n",
       "    <tr>\n",
       "      <th>0</th>\n",
       "      <td>2009</td>\n",
       "      <td>A01</td>\n",
       "      <td>Zabiegi wewnAtrzczaszkowe z powodu powaLznego ...</td>\n",
       "      <td>5517</td>\n",
       "      <td>Elektrokardiogram z 12 lub wiAcej odprowadzeniami</td>\n",
       "      <td>313</td>\n",
       "    </tr>\n",
       "    <tr>\n",
       "      <th>1</th>\n",
       "      <td>2009</td>\n",
       "      <td>A01</td>\n",
       "      <td>Zabiegi wewnAtrzczaszkowe z powodu powaLznego ...</td>\n",
       "      <td>5517</td>\n",
       "      <td>Monitorowanie elektrokardiograficzne - inne</td>\n",
       "      <td>209</td>\n",
       "    </tr>\n",
       "    <tr>\n",
       "      <th>2</th>\n",
       "      <td>2009</td>\n",
       "      <td>A01</td>\n",
       "      <td>Zabiegi wewnAtrzczaszkowe z powodu powaLznego ...</td>\n",
       "      <td>5517</td>\n",
       "      <td>Elektrokardiogram</td>\n",
       "      <td>195</td>\n",
       "    </tr>\n",
       "    <tr>\n",
       "      <th>3</th>\n",
       "      <td>2009</td>\n",
       "      <td>A01</td>\n",
       "      <td>Zabiegi wewnAtrzczaszkowe z powodu powaLznego ...</td>\n",
       "      <td>5517</td>\n",
       "      <td>Elektrokardiogram nieokreLlony</td>\n",
       "      <td>173</td>\n",
       "    </tr>\n",
       "    <tr>\n",
       "      <th>4</th>\n",
       "      <td>2009</td>\n",
       "      <td>A01</td>\n",
       "      <td>Zabiegi wewnAtrzczaszkowe z powodu powaLznego ...</td>\n",
       "      <td>5517</td>\n",
       "      <td>Elektrokardiogram z 1-3 odprowadzeniami</td>\n",
       "      <td>148</td>\n",
       "    </tr>\n",
       "  </tbody>\n",
       "</table>\n",
       "</div>"
      ],
      "text/plain": [
       "   year illness_code                                        ilness_name  \\\n",
       "0  2009          A01  Zabiegi wewnAtrzczaszkowe z powodu powaLznego ...   \n",
       "1  2009          A01  Zabiegi wewnAtrzczaszkowe z powodu powaLznego ...   \n",
       "2  2009          A01  Zabiegi wewnAtrzczaszkowe z powodu powaLznego ...   \n",
       "3  2009          A01  Zabiegi wewnAtrzczaszkowe z powodu powaLznego ...   \n",
       "4  2009          A01  Zabiegi wewnAtrzczaszkowe z powodu powaLznego ...   \n",
       "\n",
       "   n_hospit                                          procedure  n_proc  \n",
       "0      5517  Elektrokardiogram z 12 lub wiAcej odprowadzeniami     313  \n",
       "1      5517        Monitorowanie elektrokardiograficzne - inne     209  \n",
       "2      5517                                  Elektrokardiogram     195  \n",
       "3      5517                     Elektrokardiogram nieokreLlony     173  \n",
       "4      5517            Elektrokardiogram z 1-3 odprowadzeniami     148  "
      ]
     },
     "execution_count": 58,
     "metadata": {},
     "output_type": "execute_result"
    }
   ],
   "source": [
    "df.head()"
   ]
  },
  {
   "cell_type": "code",
   "execution_count": 59,
   "metadata": {},
   "outputs": [
    {
     "name": "stdout",
     "output_type": "stream",
     "text": [
      "      n_proc\n",
      "year        \n",
      "2009   85550\n",
      "2010   86962\n",
      "2011   84681\n",
      "2012  123888\n",
      "2013  128279\n",
      "2014  119798\n",
      "2015  115959\n",
      "2016  117697\n"
     ]
    }
   ],
   "source": [
    "# procedures by year\n",
    "df_proc_by_year=df[[\"year\", \"n_proc\"]]\n",
    "df_year=df_proc_by_year.groupby(['year']).sum()\n",
    "mean_proc_year=np.mean(df_year)\n",
    "print (df_year)"
   ]
  },
  {
   "cell_type": "code",
   "execution_count": null,
   "metadata": {
    "collapsed": true
   },
   "outputs": [],
   "source": [
    "#mean procedures per year \n",
    "all_proc = df['n_proc'].sum()\n",
    "mean_annual=all_proc/(df['year'].max()-df['year'].min)"
   ]
  },
  {
   "cell_type": "code",
   "execution_count": null,
   "metadata": {
    "collapsed": true
   },
   "outputs": [],
   "source": [
    "target = pd.DataFrame(df[\"n_proc\"], columns=[\"n_proc\"])\n",
    "X = df\n",
    "y = target"
   ]
  },
  {
   "cell_type": "code",
   "execution_count": null,
   "metadata": {
    "collapsed": true
   },
   "outputs": [],
   "source": [
    "lm = linear_model.LinearRegression()\n",
    "model = lm.fit(X,y)\n",
    "\n",
    "predictions = lm.predict(X)\n",
    "print(predictions)[0:5]"
   ]
  },
  {
   "cell_type": "code",
   "execution_count": null,
   "metadata": {
    "collapsed": true
   },
   "outputs": [],
   "source": [
    "#print R^2\n",
    "lm.score(X,y)"
   ]
  },
  {
   "cell_type": "code",
   "execution_count": null,
   "metadata": {
    "collapsed": true
   },
   "outputs": [],
   "source": [
    "x = numpy.array([1, 7, 20, 50, 79])\n",
    "y = numpy.array([10, 19, 30, 35, 51])\n",
    "numpy.polyfit(numpy.log(x), y, 1)\n",
    "array([ 8.46295607,  6.61867463])\n",
    "# y ≈ 8.46 log(x) + 6.62"
   ]
  },
  {
   "cell_type": "code",
   "execution_count": null,
   "metadata": {
    "collapsed": true
   },
   "outputs": [],
   "source": []
  }
 ],
 "metadata": {
  "kernelspec": {
   "display_name": "Python 3",
   "language": "python",
   "name": "python3"
  },
  "language_info": {
   "codemirror_mode": {
    "name": "ipython",
    "version": 3
   },
   "file_extension": ".py",
   "mimetype": "text/x-python",
   "name": "python",
   "nbconvert_exporter": "python",
   "pygments_lexer": "ipython3",
   "version": "3.6.1"
  }
 },
 "nbformat": 4,
 "nbformat_minor": 2
}
