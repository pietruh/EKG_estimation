{
 "cells": [
  {
   "cell_type": "code",
   "execution_count": 2,
   "metadata": {
    "collapsed": true
   },
   "outputs": [],
   "source": [
    "import pandas as pd\n",
    "import numpy as np"
   ]
  },
  {
   "cell_type": "code",
   "execution_count": 57,
   "metadata": {},
   "outputs": [],
   "source": [
    "df = pd.read_csv('/Users/zosia/Desktop/ECG/results_35.txt', delimiter=';', header=None)\n",
    "df.columns= ['year', 'illness_code', 'ilness_name', 'n_hospit', 'procedure', 'n_proc']\n",
    "df.n_proc=df.n_proc.map(lambda x: str(x)[:-1])\n",
    "df[\"n_proc\"] = df[\"n_proc\"].apply(pd.to_numeric)"
   ]
  },
  {
   "cell_type": "code",
   "execution_count": 58,
   "metadata": {},
   "outputs": [
    {
     "data": {
      "text/html": [
       "<div>\n",
       "<style>\n",
       "    .dataframe thead tr:only-child th {\n",
       "        text-align: right;\n",
       "    }\n",
       "\n",
       "    .dataframe thead th {\n",
       "        text-align: left;\n",
       "    }\n",
       "\n",
       "    .dataframe tbody tr th {\n",
       "        vertical-align: top;\n",
       "    }\n",
       "</style>\n",
       "<table border=\"1\" class=\"dataframe\">\n",
       "  <thead>\n",
       "    <tr style=\"text-align: right;\">\n",
       "      <th></th>\n",
       "      <th>year</th>\n",
       "      <th>illness_code</th>\n",
       "      <th>ilness_name</th>\n",
       "      <th>n_hospit</th>\n",
       "      <th>procedure</th>\n",
       "      <th>n_proc</th>\n",
       "    </tr>\n",
       "  </thead>\n",
       "  <tbody>\n",
       "    <tr>\n",
       "      <th>0</th>\n",
       "      <td>2009</td>\n",
       "      <td>A01</td>\n",
       "      <td>Zabiegi wewnAtrzczaszkowe z powodu powaLznego ...</td>\n",
       "      <td>5517</td>\n",
       "      <td>Elektrokardiogram z 12 lub wiAcej odprowadzeniami</td>\n",
       "      <td>313</td>\n",
       "    </tr>\n",
       "    <tr>\n",
       "      <th>1</th>\n",
       "      <td>2009</td>\n",
       "      <td>A01</td>\n",
       "      <td>Zabiegi wewnAtrzczaszkowe z powodu powaLznego ...</td>\n",
       "      <td>5517</td>\n",
       "      <td>Monitorowanie elektrokardiograficzne - inne</td>\n",
       "      <td>209</td>\n",
       "    </tr>\n",
       "    <tr>\n",
       "      <th>2</th>\n",
       "      <td>2009</td>\n",
       "      <td>A01</td>\n",
       "      <td>Zabiegi wewnAtrzczaszkowe z powodu powaLznego ...</td>\n",
       "      <td>5517</td>\n",
       "      <td>Elektrokardiogram</td>\n",
       "      <td>195</td>\n",
       "    </tr>\n",
       "    <tr>\n",
       "      <th>3</th>\n",
       "      <td>2009</td>\n",
       "      <td>A01</td>\n",
       "      <td>Zabiegi wewnAtrzczaszkowe z powodu powaLznego ...</td>\n",
       "      <td>5517</td>\n",
       "      <td>Elektrokardiogram nieokreLlony</td>\n",
       "      <td>173</td>\n",
       "    </tr>\n",
       "    <tr>\n",
       "      <th>4</th>\n",
       "      <td>2009</td>\n",
       "      <td>A01</td>\n",
       "      <td>Zabiegi wewnAtrzczaszkowe z powodu powaLznego ...</td>\n",
       "      <td>5517</td>\n",
       "      <td>Elektrokardiogram z 1-3 odprowadzeniami</td>\n",
       "      <td>148</td>\n",
       "    </tr>\n",
       "  </tbody>\n",
       "</table>\n",
       "</div>"
      ],
      "text/plain": [
       "   year illness_code                                        ilness_name  \\\n",
       "0  2009          A01  Zabiegi wewnAtrzczaszkowe z powodu powaLznego ...   \n",
       "1  2009          A01  Zabiegi wewnAtrzczaszkowe z powodu powaLznego ...   \n",
       "2  2009          A01  Zabiegi wewnAtrzczaszkowe z powodu powaLznego ...   \n",
       "3  2009          A01  Zabiegi wewnAtrzczaszkowe z powodu powaLznego ...   \n",
       "4  2009          A01  Zabiegi wewnAtrzczaszkowe z powodu powaLznego ...   \n",
       "\n",
       "   n_hospit                                          procedure  n_proc  \n",
       "0      5517  Elektrokardiogram z 12 lub wiAcej odprowadzeniami     313  \n",
       "1      5517        Monitorowanie elektrokardiograficzne - inne     209  \n",
       "2      5517                                  Elektrokardiogram     195  \n",
       "3      5517                     Elektrokardiogram nieokreLlony     173  \n",
       "4      5517            Elektrokardiogram z 1-3 odprowadzeniami     148  "
      ]
     },
     "execution_count": 58,
     "metadata": {},
     "output_type": "execute_result"
    }
   ],
   "source": [
    "df.head()"
   ]
  },
  {
   "cell_type": "code",
   "execution_count": 91,
   "metadata": {},
   "outputs": [],
   "source": [
    "# procedures by year\n",
    "df_proc_by_year = df[[\"year\", \"n_proc\"]]\n",
    "df_year = df_proc_by_year.groupby(['year']).sum()\n",
    "df_year.index\n",
    "df_year = df_year.reset_index()\n",
    "\n",
    "mean_proc_year = np.mean(df_year)"
   ]
  },
  {
   "cell_type": "code",
   "execution_count": 92,
   "metadata": {},
   "outputs": [
    {
     "data": {
      "text/plain": [
       "year        2012.50\n",
       "n_proc    107851.75\n",
       "dtype: float64"
      ]
     },
     "execution_count": 92,
     "metadata": {},
     "output_type": "execute_result"
    }
   ],
   "source": [
    "mean_proc_year"
   ]
  },
  {
   "cell_type": "code",
   "execution_count": 93,
   "metadata": {},
   "outputs": [
    {
     "data": {
      "text/plain": [
       "<matplotlib.axes._subplots.AxesSubplot at 0x1146e8ba8>"
      ]
     },
     "execution_count": 93,
     "metadata": {},
     "output_type": "execute_result"
    },
    {
     "data": {
      "image/png": "[encoded data removed]",
      "text/plain": [
       "<matplotlib.figure.Figure at 0x114ceec88>"
      ]
     },
     "metadata": {},
     "output_type": "display_data"
    }
   ],
   "source": [
    "import seaborn as sns\n",
    "import matplotlib.pyplot as plt\n",
    "%matplotlib inline \n",
    "\n",
    "df_year.plot(x ='year', y ='n_proc', figsize=(10, 7))\n"
   ]
  },
  {
   "cell_type": "code",
   "execution_count": 95,
   "metadata": {
    "collapsed": true
   },
   "outputs": [],
   "source": [
    "X = df_year[\"year\"]\n",
    "y = df_year[\"n_proc\"]"
   ]
  },
  {
   "cell_type": "code",
   "execution_count": 96,
   "metadata": {},
   "outputs": [
    {
     "ename": "NameError",
     "evalue": "name 'linear_model' is not defined",
     "output_type": "error",
     "traceback": [
      "\u001b[0;31m---------------------------------------------------------------------------\u001b[0m",
      "\u001b[0;31mNameError\u001b[0m                                 Traceback (most recent call last)",
      "\u001b[0;32m<ipython-input-96-c2da2e3c5100>\u001b[0m in \u001b[0;36m<module>\u001b[0;34m()\u001b[0m\n\u001b[0;32m----> 1\u001b[0;31m \u001b[0mlm\u001b[0m \u001b[0;34m=\u001b[0m \u001b[0mlinear_model\u001b[0m\u001b[0;34m.\u001b[0m\u001b[0mLinearRegression\u001b[0m\u001b[0;34m(\u001b[0m\u001b[0;34m)\u001b[0m\u001b[0;34m\u001b[0m\u001b[0m\n\u001b[0m\u001b[1;32m      2\u001b[0m \u001b[0mmodel\u001b[0m \u001b[0;34m=\u001b[0m \u001b[0mlm\u001b[0m\u001b[0;34m.\u001b[0m\u001b[0mfit\u001b[0m\u001b[0;34m(\u001b[0m\u001b[0mX\u001b[0m\u001b[0;34m,\u001b[0m\u001b[0my\u001b[0m\u001b[0;34m)\u001b[0m\u001b[0;34m\u001b[0m\u001b[0m\n\u001b[1;32m      3\u001b[0m \u001b[0;34m\u001b[0m\u001b[0m\n\u001b[1;32m      4\u001b[0m \u001b[0mpredictions\u001b[0m \u001b[0;34m=\u001b[0m \u001b[0mlm\u001b[0m\u001b[0;34m.\u001b[0m\u001b[0mpredict\u001b[0m\u001b[0;34m(\u001b[0m\u001b[0mX\u001b[0m\u001b[0;34m)\u001b[0m\u001b[0;34m\u001b[0m\u001b[0m\n\u001b[1;32m      5\u001b[0m \u001b[0mprint\u001b[0m\u001b[0;34m(\u001b[0m\u001b[0mpredictions\u001b[0m\u001b[0;34m)\u001b[0m\u001b[0;34m[\u001b[0m\u001b[0;36m0\u001b[0m\u001b[0;34m:\u001b[0m\u001b[0;36m5\u001b[0m\u001b[0;34m]\u001b[0m\u001b[0;34m\u001b[0m\u001b[0m\n",
      "\u001b[0;31mNameError\u001b[0m: name 'linear_model' is not defined"
     ]
    }
   ],
   "source": [
    "lm = linear_model.LinearRegression()\n",
    "model = lm.fit(X,y)\n",
    "\n",
    "predictions = lm.predict(X)\n",
    "print(predictions)[0:5]"
   ]
  },
  {
   "cell_type": "code",
   "execution_count": null,
   "metadata": {
    "collapsed": true
   },
   "outputs": [],
   "source": [
    "#print R^2\n",
    "lm.score(X,y)"
   ]
  },
  {
   "cell_type": "code",
   "execution_count": null,
   "metadata": {
    "collapsed": true
   },
   "outputs": [],
   "source": [
    "x = numpy.array([1, 7, 20, 50, 79])\n",
    "y = numpy.array([10, 19, 30, 35, 51])\n",
    "numpy.polyfit(numpy.log(x), y, 1)\n",
    "array([ 8.46295607,  6.61867463])\n",
    "# y ≈ 8.46 log(x) + 6.62"
   ]
  },
  {
   "cell_type": "code",
   "execution_count": null,
   "metadata": {
    "collapsed": true
   },
   "outputs": [],
   "source": []
  }
 ],
 "metadata": {
  "kernelspec": {
   "display_name": "Python 3",
   "language": "python",
   "name": "python3"
  },
  "language_info": {
   "codemirror_mode": {
    "name": "ipython",
    "version": 3
   },
   "file_extension": ".py",
   "mimetype": "text/x-python",
   "name": "python",
   "nbconvert_exporter": "python",
   "pygments_lexer": "ipython3",
   "version": "3.6.1"
  }
 },
 "nbformat": 4,
 "nbformat_minor": 2
}
